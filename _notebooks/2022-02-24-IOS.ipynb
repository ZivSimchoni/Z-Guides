{
 "cells": [
  {
   "cell_type": "markdown",
   "metadata": {},
   "source": [
    "# IOS Apps\n",
    "- toc: true\n",
    "- badges: false\n",
    "- hide_binder_badge: true\n",
    "- hide_colab_badge: true\n",
    "- hide_deepnote_badge: true\n",
    "- layout: post\n",
    "- description: List of IOS Apps\n",
    "- categories: [ios, apps]\n",
    "- title: IOS Apps\n",
    "- comments: true\n",
    "- author: Ziv Simchoni\n",
    "- image: images/IOS.png"
   ]
  },
  {
   "cell_type": "markdown",
   "metadata": {},
   "source": [
    "## Communication\n",
    "\n",
    "### E-mail Clients\n",
    "\n",
    "- [Canary](https://apps.apple.com/app/canary-mail/id1155470386) - A free, open-source, and easy to use email client.\n",
    "- [Protonmail](https://apps.apple.com/app/protonmail-encrypted-email/id979659905) - Protonmail is a free, open-source, and secure email service.\n",
    "- [Spark](https://apps.apple.com/app/spark-email-app-by-readdle/id997102246) - Effortless, beautiful, and collaborative email client.\n",
    "- [Tutanota](https://apps.apple.com/app/tutanota/id922429609) - Tutanota is a free, open-source, and secure email service.\n",
    "\n",
    "### Real-Time Communication\n",
    "\n",
    "- [Element](https://apps.apple.com/app/vector/id1083446067) - Secure and independent communication, connected via [matrix](https://matrix.org/).\n",
    "- [Signal](https://apps.apple.com/app/signal-private-messenger/id874139669) - Privacy oriented messaging app.\n",
    "- [Telegram](https://telegram.org/apps) - Cross platform messaging software.\n",
    "\n",
    "### Social Media\n",
    "\n",
    "- [Apollo](https://apps.apple.com/app/apollo-for-reddit/id979274575) - Unofficial Reddit client, created specifically with iOS design guidelines in mind, beautiful and powerful.\n",
    "- [Slide](https://apps.apple.com/app/slide-for-reddit/id1260626828) - Unofficial Open Sourced Reddit client, clean UI and smooth experience."
   ]
  },
  {
   "cell_type": "markdown",
   "metadata": {},
   "source": [
    "## Files & System\n",
    "\n",
    "### File Managers\n",
    "\n",
    "- [Documents by Readdle](https://apps.apple.com/app/documents-file-reader-browser/id364901807) - File browser and reader.\n",
    "\n",
    "### File Sync\n",
    "\n",
    "- [Möbius Sync](https://apps.apple.com/app/mobiussync/id1539203216) - Möbius Sync brings Syncthing to iOS, allowing you to synchronize files with Syncthing, without the need for any cloud service.\n",
    "- [Resilio Sync](https://apps.apple.com/app/id1126282325) - Sync is the a way to transfer files between your Mac, PC, NAS, and even server.\n",
    "\n",
    "### Notes\n",
    "\n",
    "- [Joplin](https://apps.apple.com/app/joplin/id1315599797) - Joplin is an open source note-taking app. Capture your thoughts and securely access them from any device.\n",
    "- [Obsidian Notes](https://apps.apple.com/app/obsidian-connected-notes/id1557175442) - Obsidian is a powerful knowledge base on top of a local folder of plain text Markdown files.\n",
    "- [Standard Notes](https://apps.apple.com/app/standard-notes/id1285392450) - Standard Notes is a safe place for your notes, thoughts, and life's work."
   ]
  },
  {
   "cell_type": "markdown",
   "metadata": {},
   "source": [
    "## Internet\n",
    "\n",
    "### Advertisement blocking\n",
    "\n",
    "- [AdGuard](https://adguard.com/en/welcome.html) - AdGuard is a free, open-source, browser-based, ad-blocking browser extension.\n",
    "- [NextDNS](https://nextdns.io) - NextDNS is a free DNS server that provides a free, fast, and reliable DNS service.\n",
    "\n",
    "### VPNs\n",
    "\n",
    "- [Mullvad](https://apps.apple.com/app/mullvad-vpn/id1488466513) - Privacy oriented, fast and easy to use VPN.\n",
    "- [NordVPN](https://apps.apple.com/app/id905953485) - _Paid_ VPN service.\n",
    "- [ProtonVPN](https://apps.apple.com/app/protonvpn-fast-secure-vpn/id1437005085) - VPN service.\n",
    "- [WireGuard](https://www.wireguard.com/install/) - Simple yet fast and modern VPN that utilizes state-of-the-art cryptography.\n",
    "\n",
    "### Web Browsers\n",
    "\n",
    "- [Brave](https://apps.apple.com/app/brave-private-web-browser/id1052879175) - Chromium fork with ad blocking enhancements.\n",
    "- [DuckDuckGo](https://apps.apple.com/app/duckduckgo-privacy-browser/id663592361) - Privacy-oriented browser with tracking protection and content blocking.\n",
    "- [Firefox](https://apps.apple.com/app/firefox-private-safe-browser/id989804926) - Free and open-source web browser developed by Mozilla.\n",
    "- [Firefox Focus](https://apps.apple.com/app/firefox-focus-privacy-browser/id1055677337) - Privacy-oriented browser with tracking protection and content blocking.\n",
    "- [Tor Browser](https://apps.apple.com/app/onion-browser/id519296448) - Experience real private browsing without tracking, surveillance, or censorship.\n"
   ]
  },
  {
   "cell_type": "markdown",
   "metadata": {},
   "source": [
    "## Media\n",
    "\n",
    "### Photos\n",
    "\n",
    "- [Procreate](https://apps.apple.com/app/apple-store/id425073498?pt=345446) - _Paid app_ Procreate is the leading creative application made for iPad.\n",
    "- [Snapseed](https://apps.apple.com/app/snapseed/id439438619) - Snapseed is a complete and professional photo editor.\n",
    "\n",
    "### Music and Videos \n",
    "\n",
    "- [VLC](https://apps.apple.com/app/vlc-for-mobile/id650377962) -  FOSS cross-platform multimedia player and framework that plays most multimedia files."
   ]
  },
  {
   "cell_type": "markdown",
   "metadata": {},
   "source": [
    "## Passwords And Security\n",
    "\n",
    "### Passwords Managers\n",
    "\n",
    "- [Bitwarden](https://bitwarden.com/download) - Cross-platform password manager. (With paid subscription - can be used for 2FA too)\n",
    "\n",
    "### 2FA and TOTP\n",
    "\n",
    "- [Raivo OTP](https://apps.apple.com/app/raivo-otp/id1459042137) - A native, lightweight and secure one-time-password (OTP) solution for users.\n",
    "- [Tofu Authenticator](https://apps.apple.com/app/tofu-authenticator/id1082229305) - An easy-to-use, open-source two-factor authentication app designed specifically for iOS."
   ]
  },
  {
   "cell_type": "markdown",
   "metadata": {},
   "source": [
    "## ETC.\n",
    "\n",
    "### Shortcuts\n",
    "\n",
    "- [Matthew Cassinelli's - Shortcuts Library](https://www.matthewcassinelli.com/sirishortcuts/shortcuts-library/) - A collection of shortcuts for iOS and MacOS.\n",
    "- [RoutineHub](https://routinehub.co) - RoutineHub is a growing community around automating Apple iPhones and iPads with Siri Shortcuts.\n",
    "- [r/ Shortcuts](https://www.reddit.com/r/shortcuts) - Subreddit dedicated to sharing shortcuts and other useful information.\n"
   ]
  }
 ],
 "metadata": {
  "language_info": {
   "name": "python"
  },
  "orig_nbformat": 4
 },
 "nbformat": 4,
 "nbformat_minor": 2
}
