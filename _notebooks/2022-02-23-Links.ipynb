{
 "cells": [
  {
   "cell_type": "markdown",
   "metadata": {},
   "source": [
    "# Resources And Links\n",
    "- toc: true\n",
    "- badges: false\n",
    "- hide_binder_badge: true\n",
    "- hide_colab_badge: true\n",
    "- hide_deepnote_badge: true\n",
    "- layout: post\n",
    "- description: List of General Sources, Repositories, blogs, etc.\n",
    "- categories: [resources]\n",
    "- title: Useful Links and Repositories\n",
    "- comments: true\n",
    "- author: Ziv Simchoni\n",
    "- image: images/web-link.png"
   ]
  },
  {
   "cell_type": "markdown",
   "metadata": {},
   "source": [
    "## General\n",
    "\n",
    "General sources for all kinds of topics and links.\n",
    "\n",
    "- [Awesome Awesomeness](https://github.com/bayandin/awesome-awesomeness) - A curated list of awesome awesomeness.\n",
    "- [Awesome List](https://github.com/sindresorhus/awesome) - Awesome lists about all kinds of interesting topics.\n",
    "- [Awesome Privacy (Kevin Coleman)](https://github.com/KevinColemanInc/awesome-privacy) - Limiting personal data leaks on the internet.\n",
    "- [Awesome Privacy (Pluja)](https://github.com/pluja/awesome-privacy) - A curated list of services and alternatives that respect your privacy because PRIVACY MATTERS.\n",
    "- [Awesome Security](https://github.com/sbilly/awesome-security) - A collection of awesome software, libraries, documents, books, resources and cools stuffs about security.\n",
    "- [Awesome Self-Hosted](https://github.com/awesome-selfhosted/awesome-selfhosted) - Alternatives to popular online services that can be self-hosted without giving up privacy.\n",
    "- [Personal security checklist](https://github.com/Lissy93/personal-security-checklist) - checklist of 300+ tips for protecting digital security and privacy. ([site](https://security-list.js.org/#/))\n",
    "- [The Book of Secret Knowledge](https://github.com/trimstray/the-book-of-secret-knowledge) - A collection of inspiring lists, manuals, cheatsheets, blogs, hacks, one-liners, cli/web tools and more.\n"
   ]
  },
  {
   "cell_type": "markdown",
   "metadata": {},
   "source": [
    "### Courses\n",
    "\n",
    "Courses in many subjects (Including programing and mathematics)\n",
    "\n",
    "- [Coursera](https://www.coursera.org)\n",
    "- [MIT Open Courses](https://ocw.mit.edu/courses)\n",
    "- [Udemy](https://www.udemy.com)"
   ]
  },
  {
   "cell_type": "markdown",
   "metadata": {},
   "source": [
    "### Forums\n",
    "\n",
    "- [XDA Forums](https://forum.xda-developers.com) - XDA Developers was founded by developers, for developers. It is now a valuable resource for people who want to make the most of their mobile devices.\n",
    "- [Dev.to](https://dev.to) - developers focused community."
   ]
  },
  {
   "cell_type": "markdown",
   "metadata": {},
   "source": [
    "## Network Related\n",
    "\n",
    "### DNS\n",
    "- [Wikipedia's public DNS service comparison table](https://en.wikipedia.org/wiki/Public_recursive_name_server)<br>\n",
    "if you're not sure what DNS server to use, try [DNS Benchmark Tool](https://www.grc.com/dns/benchmark.htm) {% fn 1 %}\n",
    "<br>\n",
    "\n",
    "- [AdGuard DNS](https://adguard.com) - AdGuard DNS is a free and open source DNS server that provides a free and open source DNS service for your network.\n",
    "- [CloudFlare](https://cloudflare-dns.com/dns) - CloudFlare DNS is a free, global, public DNS service that provides reliable, secure, and reliable DNS services.\n",
    "- [NextDNS](https://nextdns.io) - NextDNS is a DNS service that provides a free, reliable, and secure DNS service.\n",
    "- [Quad9](https://www.quad9.net) - Quad9 is a free, global, public DNS service that provides reliable, secure, and reliable DNS services.\n",
    "- [Pi-Hole](https://pi-hole.net) - The Pi-hole® is a [DNS sinkhole](https://en.wikipedia.org/wiki/DNS_sinkhole) that protects your devices from unwanted content, without installing any client-side software.\n",
    "\n",
    "### Email Services\n",
    "\n",
    "- [Mailfence](https://mailfence.com) - Mailfence is an encrypted email service from Belgium, that offers OpenPGP based end-to-end encryption and digital signatures.\n",
    "- [Tutanota](https://tutanota.com) - Tutanota is a free, secure email provider based in Germany. Its name comes from the Latin words “Tuta” and “Nota,” which translate to “secure note.”\n",
    "- [ProtonMail](https://protonmail.com) - ProtonMail is a free, secure, Swiss email provider. Using open-source and zero-knowledge architecture.\n",
    "<br>Also worth checking [Mailbox.org](https://mailbox.org), [cTemplar](https://ctemplar.com), [Disroot](https://disroot.org), [Posteo](https://posteo.de) and [Soverin](https://soverin.net).  Alternatively, you can self host using [Mail-in-a-Box](https://mailinabox.email)\n",
    "\n",
    "Do remember to check [This Email Security Checklist](https://security-list.js.org/#/README?id=emails).\n",
    "For deeper [reviews](https://restoreprivacy.com/email/secure/) of email security.  {% fn 2 %}\n",
    "\n",
    "\n",
    "### Hosts Lists\n",
    "\n",
    "- [Peter Lowe Hosts](https://pgl.yoyo.org/adservers/serverlist.php)\n",
    "- [Someone Who Cares Hosts](https://someonewhocares.org/hosts)\n",
    "- [Steven Black Hosts](https://github.com/StevenBlack/hosts) - Unified hosts file + Extensions to choose from.\n",
    "- [Energized Protection Hosts](https://energized.pro) - Unified hosts file that prevents your system from connecting to adware sites.\n",
    "\n",
    "### VPN\n",
    "\n",
    "[VPN Comparison Guide](https://docs.google.com/spreadsheets/d/e/2PACX-1vRh1eSvC9A9hvNE9m1ZgfZQu5GtREEXtKQ25BmCLveYduOl4kVc5gDO7Mj28oOboAv-VTIMtY7JdKpP/pubhtml#) - VPNs ranked based on privacy polices & more.\n",
    "\n",
    "- [Mullvad](https://mullvad.net/en/download/android/) - Privacy oriented, fast and easy to use VPN.\n",
    "- [NordVPN](https://nordvpn.com/download/android/) - _Paid_ VPN service.\n",
    "- [ProtonVPN](https://protonapps.com) - ProtonVPN is a free, open-source VPN service that provides secure, fast, and reliable VPN services.\n",
    "- [WireGuard](https://www.wireguard.com/install/) - Simple yet fast and modern VPN that utilizes state-of-the-art cryptography."
   ]
  },
  {
   "cell_type": "markdown",
   "metadata": {},
   "source": [
    "## Web\n",
    "\n",
    "- [EFF](https://www.eff.org) - The Electronic Frontier Foundation is the leading nonprofit organization defending civil liberties, digital privacy, free speech, and innovation in the digital world.\n",
    "\n",
    "\n",
    "## Search Providers Sites\n",
    "\n",
    "- [Brave Search](https://search.brave.com) - Privacy-focused search engine based in the USA.\n",
    "- [DuckDuckGo](https://duckduckgo.com) - Privacy-focused search engine based in the USA.\n",
    "- [MetaGer](https://metager.org) - Privacy-focused search engine based in Germany.\n",
    "- [Private](https://private.sh)\n",
    "- [SearX](https://searx.space/) - Privacy-focused search engine, hosted in multiple locations around the world. Self-hostable, open source metasearch engine. \n",
    "- [StartPage](https://www.startpage.com) - Privacy-focused search engine based in the Netherlands.\n",
    "- [SwissCow](https://swisscows.com) - Privacy-focused search engine based in Switzerland.\n",
    "- [Whoogle Search](https://github.com/benbusby/whoogle-search) - A self-hosted, Google search results, but without any ads, privacy-respecting engine.\n",
    "\n",
    "### Search Better\n",
    "\n",
    "- [Advanced Search Operators For Google](https://ahrefs.com/blog/google-advanced-search-operators)\n",
    "- [Guide to Google Advanced Search Operators](https://www.searchenginejournal.com/google-search-operators-commands/215331)"
   ]
  },
  {
   "cell_type": "markdown",
   "metadata": {},
   "source": [
    "## Privacy Related\n",
    "\n",
    "- [Privacy Guide](https://www.privacyguides.org) - Privacy focused site with suggested apps, extensions and more. .\n",
    "  - [PrivacyTools](https://www.privacytools.io) - PrivacyGuide's old site.{% fn 3 %}\n",
    "- [PrivacyToolsList](https://privacytoolslist.com) - Safe internet, privacy tools for your desktop, here you will find best anonymity tools list for desktop, mobile, android, iphone.\n",
    "~~- [Prism Break](https://prism-break.org/en) - Opt out of global data surveillance programs.~~ seems to be broken, will delete it in the near future if it wont be fixed."
   ]
  },
  {
   "cell_type": "markdown",
   "metadata": {},
   "source": [
    "## Reddit Subs & Posts\n",
    "\n",
    "- [/r FREEMEDIAHECKYEAH WIKI](https://www.reddit.com/r/FREEMEDIAHECKYEAH/wiki/index)\n",
    "- [/r Privacy](https://www.reddit.com/r/privacy)\n",
    "  - [/r Privacy WIKI](https://www.reddit.com/r/privacy/wiki/index)\n",
    "- [/r Privacy Guide](https://www.reddit.com/r/PrivacyGuides)\n",
    "  - [/r PrivacyToolsIO](https://www.reddit.com/r/privacytoolsIO)"
   ]
  },
  {
   "cell_type": "markdown",
   "metadata": {},
   "source": [
    "{{ 'By Gibson Research Corporation.' | fndetail: 1 }}\n",
    "\n",
    "{{ 'Thanks to: [Sources 1](https://security-list.js.org/#/), [Sources 2](https://www.privacytools.io/#email), [Source 3](https://restoreprivacy.com)' | fndetail: 2 }}\n",
    "\n",
    "{{ '[source 1](https://www.reddit.com/r/privacytoolsIO/comments/pnql46/rprivacyguides_privacyguidesorg_what_you_need_to), [source 2](https://www.reddit.com/r/PrivacyGuides/comments/pnh9n8/what_happened_to_privacytools)' | fndetail: 3 }}"
   ]
  }
 ],
 "metadata": {
  "interpreter": {
   "hash": "1512b58cf1e520d48d028d2c39b6d1d1e93cbe4dacfbd9656753a2ed33318813"
  },
  "kernelspec": {
   "display_name": "Python 3.10.2 64-bit",
   "language": "python",
   "name": "python3"
  },
  "language_info": {
   "name": "python",
   "version": "3.10.4"
  },
  "orig_nbformat": 4
 },
 "nbformat": 4,
 "nbformat_minor": 2
}
