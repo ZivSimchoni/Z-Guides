{
 "cells": [
  {
   "cell_type": "markdown",
   "metadata": {},
   "source": [
    "# Windows Hardening Guides \n",
    "- badges: false\n",
    "- hide_binder_badge: true\n",
    "- hide_colab_badge: true\n",
    "- hide_deepnote_badge: true\n",
    "- toc: false\n",
    "- layout: post\n",
    "- description: Windows Hardening & Activation Tool\n",
    "- categories: [privacy, windows]\n",
    "- title: Windows Hardening Guides \n",
    "- comments: true\n",
    "- author: Ziv Simchoni\n",
    "- image: images/privacy.png"
   ]
  },
  {
   "cell_type": "markdown",
   "metadata": {},
   "source": [
    "## Windows Hardening\n",
    "- [/r Windows 10 Privacy Practices](https://www.reddit.com/r/privacytoolsIO/comments/fwgvsb/windows_10_best_privacy_practices)\n",
    "- [Windows 11 Hardening](https://github.com/beerisgood/Windows11_Hardening)"
   ]
  },
  {
   "cell_type": "markdown",
   "metadata": {},
   "source": [
    "## Windows Activation\n",
    "\n",
    ">important: As always - if you enjoy the program/app please consider donating to the developer.\n",
    "\n",
    "- [Mas Activator](https://github.com/massgravel/Microsoft-Activation-Scripts)"
   ]
  }
 ],
 "metadata": {
  "interpreter": {
   "hash": "1512b58cf1e520d48d028d2c39b6d1d1e93cbe4dacfbd9656753a2ed33318813"
  },
  "kernelspec": {
   "display_name": "Python 3.10.2 64-bit",
   "language": "python",
   "name": "python3"
  },
  "language_info": {
   "name": "python",
   "version": "3.10.2"
  },
  "orig_nbformat": 4
 },
 "nbformat": 4,
 "nbformat_minor": 2
}
