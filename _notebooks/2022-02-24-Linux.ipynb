{
 "cells": [
  {
   "cell_type": "markdown",
   "metadata": {},
   "source": [
    "# Linux Distros\n",
    "- toc: true\n",
    "- badges: false\n",
    "- hide_binder_badge: true\n",
    "- hide_colab_badge: true\n",
    "- hide_deepnote_badge: true\n",
    "- layout: post\n",
    "- description: List of Linux Distros\n",
    "- categories: [linux]\n",
    "- title: Linux Distros\n",
    "- comments: true\n",
    "- author: Ziv Simchoni\n",
    "- image: images/linux.png"
   ]
  },
  {
   "cell_type": "markdown",
   "metadata": {},
   "source": [
    ">note: This is a list of Linux Distros.<br>For more accurate information - visit [`Distro Watch`](#Useful-Links) site down below."
   ]
  },
  {
   "cell_type": "markdown",
   "metadata": {},
   "source": [
    "## Beginners Friendly\n",
    "\n",
    "- [Ubuntu](https://www.ubuntu.com) - Ubuntu is a free and open-source operating system for computers. It is the best Linux distribution for beginners.\n",
    "- [Linux Mint](https://linuxmint.com) - Ubuntu based, providing a classic desktop experience with many convenient, custom tools out-of-the-box."
   ]
  },
  {
   "cell_type": "markdown",
   "metadata": {},
   "source": [
    "## Generally Useful\n",
    "\n",
    "- [Arch Linux](https://www.archlinux.org) - Targeted at competent Linux users.\n",
    "- [Debian](https://www.debian.org) \n",
    "- [Fedora](https://www.fedoraproject.org) \n",
    "- [Manjaro](https://manjaro.org) - Arch-Based, with many features.\n",
    "- [Endeavour os](https://endeavouros.com) - Arch-Based, A terminal-centric distro with a vibrant and friendly community at its core.\n",
    "- [Mx Linux](https://mxlinux.org) - Debian-based, simple configuration, high stability, solid performance and medium-sized footprint."
   ]
  },
  {
   "cell_type": "markdown",
   "metadata": {},
   "source": [
    "## Penetration Testing Oriented\n",
    "\n",
    "- [Kali Linux](https://www.kali.org) - Debian-based, The most advanced Penetration Testing Distribution.\n",
    "- [Parrot Security OS](https://www.parrotsec.org)  - Debian-based, designed with Security and Privacy in mind. "
   ]
  },
  {
   "cell_type": "markdown",
   "metadata": {},
   "source": [
    "## Privacy Oriented\n",
    "\n",
    "- [Qubes OS](https://www.qubes-os.org) - Qubes OS is a free and open-source security-oriented operating system meant for single-user desktop computing.\n",
    "- [Tails-OS](https://tails.boum.org) - Tails is a portable operating system that protects against surveillance and censorship.\n",
    "- [Whonix](https://www.whonix.org) - Operating System designed for anonymity."
   ]
  },
  {
   "cell_type": "markdown",
   "metadata": {},
   "source": [
    "# Useful Links\n",
    "\n",
    "- [Distro Watch](https://distrowatch.com) - A comprehensive list of Linux distros and their current status.\n",
    "- [ItsFOSS](https://itsfoss.com/) - Lots of FOSS and linux related stuff.\n",
    "- [Linux Journey](https://linuxjourney.com/) - Linux Journey is a site dedicated to making learning Linux fun and easy."
   ]
  }
 ],
 "metadata": {
  "interpreter": {
   "hash": "1512b58cf1e520d48d028d2c39b6d1d1e93cbe4dacfbd9656753a2ed33318813"
  },
  "kernelspec": {
   "display_name": "Python 3.10.2 64-bit",
   "language": "python",
   "name": "python3"
  },
  "language_info": {
   "name": "python",
   "version": "3.10.2"
  },
  "orig_nbformat": 4
 },
 "nbformat": 4,
 "nbformat_minor": 2
}
