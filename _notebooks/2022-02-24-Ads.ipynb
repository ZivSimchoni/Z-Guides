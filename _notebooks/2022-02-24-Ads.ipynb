{
 "cells": [
  {
   "cell_type": "markdown",
   "metadata": {},
   "source": [
    "# Tired Of These Ads? There’s A Solution.\n",
    "- badges: false\n",
    "- hide_binder_badge: true\n",
    "- hide_colab_badge: true\n",
    "- hide_deepnote_badge: true\n",
    "- toc: false\n",
    "- layout: post\n",
    "- description: Ads? heres how to stop them.\n",
    "- categories: [ads, post]\n",
    "- title: Tired Of These Ads?\n",
    "- comments: true\n",
    "- author: Ziv Simchoni\n",
    "- image: images/ads.jpg"
   ]
  },
  {
   "cell_type": "markdown",
   "metadata": {},
   "source": [
    "<!-- Image Cell -->\n",
    "![](../images/ads.jpg)"
   ]
  },
  {
   "cell_type": "markdown",
   "metadata": {},
   "source": [
    "Wouldn't it be nicer to have a cleaner website, without the ads feeling the site and interrupting  actual content you're viewing? <br>\n",
    "For most of the cases Ad blockers extensions/Add-ons the solution.<br>"
   ]
  },
  {
   "cell_type": "markdown",
   "metadata": {},
   "source": [
    "## Ad Blockers\n",
    "As the name suggests, Ad blockers are designed to block ads.<br>\n",
    "Though **no system is 100% accurate** most of the ads will be caught in the Ad blocker mighty “spider web”.<br>\n",
    "The most common ad blockers are web-browser add-ons and are “plug and play”, after you're installing them there's a little to nothing to mess with to make it work.<br>\n",
    "\n",
    "Recommended Ad Blockers:\n",
    "- UBlock Origin (**my personal favorite**, and the first addon I install in any web browser)\n",
    "- AdBlock\n",
    "- AdBlock Plus"
   ]
  },
  {
   "cell_type": "markdown",
   "metadata": {},
   "source": [
    ">tip: I’d recommend modifying the settings and block lists inside the chosen add-on as per your preferences and needs."
   ]
  },
  {
   "cell_type": "markdown",
   "metadata": {},
   "source": [
    "## Domain Name System (DNS, for short)\n",
    "[DNS](https://en.wikipedia.org/wiki/Domain_Name_System) is the “phone-book” of the internet,\n",
    "The “set and forget” method, navigate to the internet settings and set your private dns for `dns.adguard.com` **or** navigate to `nextdns.io` configure your DNS and follow the instructions in the setup guide accordingly to your device.<br>\n"
   ]
  },
  {
   "cell_type": "markdown",
   "metadata": {},
   "source": [
    "## Hosts File\n",
    ">note: Compared to the previous section, using the hosts files method is less beginner (newbie) friendly.\n",
    "<br>\n",
    "\n",
    "**What is a “Hosts file”?**<br>\n",
    "A quick and short description:<br>\n",
    "Hosts file is a text file in a system that contains a list of hostnames and their corresponding IP addresses. is used to allow or deny access to specific websites.<br>\n",
    "The hosts file is a text file \n",
    "(For further and in depth explanation check [Wiki](https://en.wikipedia.org/wiki/Hosts_(file))\n",
    "<br>\n",
    "\n",
    "**Recommended Hosts Files:**\n",
    "- Steven Black\n",
    "- Peter Lowe\n",
    "- Someone Who Cares\n",
    "- Energized Protection\n",
    "\n",
    "**Recommended Android Mobile Apps**\n",
    "- BlockAda\n",
    "- AdAway"
   ]
  },
  {
   "cell_type": "markdown",
   "metadata": {},
   "source": [
    "## Bonus perks when you're blocking ads\n",
    "- Faster browsing - since there’s less information to load.\n",
    "- Less data usage (more relevant for metered connections and limited cellular plans).\n",
    "- Cleaner browsing experience - since ads are not visible."
   ]
  },
  {
   "cell_type": "markdown",
   "metadata": {},
   "source": [
    "\n",
    ">important: Please consider donating to or purchasing services that you enjoy to help developers and give motivation boost to those who’ve worked hard to build the service/platform/app you're using.<Br>"
   ]
  },
  {
   "cell_type": "markdown",
   "metadata": {},
   "source": [
    "<br>\n",
    "What method suits you the most?<br>\n",
    "On what subject would you like to read more?<br>\n",
    "Let me know with a comment below."
   ]
  }
 ],
 "metadata": {
  "interpreter": {
   "hash": "1512b58cf1e520d48d028d2c39b6d1d1e93cbe4dacfbd9656753a2ed33318813"
  },
  "kernelspec": {
   "display_name": "Python 3.10.2 64-bit",
   "language": "python",
   "name": "python3"
  },
  "language_info": {
   "name": "python",
   "version": "3.10.2"
  },
  "orig_nbformat": 4
 },
 "nbformat": 4,
 "nbformat_minor": 2
}
