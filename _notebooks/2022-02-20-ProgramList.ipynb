{
 "cells": [
  {
   "cell_type": "markdown",
   "metadata": {},
   "source": [
    "# Programs List\n",
    "- toc: true\n",
    "- layout: post\n",
    "- badges: false\n",
    "- hide_binder_badge: true\n",
    "- hide_colab_badge: true\n",
    "- hide_deepnote_badge: true\n",
    "- description: List of various good software and programs\n",
    "- categories: [software, programs]\n",
    "- title: Useful Program and Apps\n",
    "- comments: true\n",
    "- author: Ziv Simchoni\n",
    "- image: images/programs.png"
   ]
  },
  {
   "cell_type": "markdown",
   "metadata": {},
   "source": [
    "## Art\n",
    "\n",
    "- [Blender](https://www.blender.org) - Blender is a professional, free and open-source 3D computer graphics software toolset used for creating animated films, visual effects, art, 3D printed models.\n",
    "- [GIMP](https://www.gimp.org/) - The Free & Open Source Image Editor.\n",
    "- [Inkscape](https://inkscape.org/en/) - Inkscape is professional quality vector graphics software which runs on Linux, Mac OS X and Windows desktop computers.\n",
    "- [Krita](https://krita.org/en/) - Krita is a professional FREE and open source painting program.\n",
    "- [ShareX](https://getsharex.com/) - Superior screenshots."
   ]
  },
  {
   "cell_type": "markdown",
   "metadata": {},
   "source": [
    "## Gaming\n",
    "\n",
    "- [Battle.Net](http://battle.net/) - Blizzards Official Game Launcher.\n",
    "- [Cheat Engine](https://cheatengine.org/) - Cheat Engine is an open source tool designed to help you with modifying single player games.\n",
    "- [Depressurizer](https://github.com/Depressurizer/Depressurizer) - A Steam library categorizing tool.\n",
    "- [Game Save Manager](http://www.gamesave-manager.com/) - The easy way to manage your PC game saves.\n",
    "- [GOG Galaxy](https://www.gog.com/galaxy) - The gaming Client designed for a convenient purchasing, playing and updating games.\n",
    "- [Joystick Curves](https://www.xedocproject.com/joystickcurves.html) - Custom joystick curves for any joystick.\n",
    "- [Steam](https://store.steampowered.com/) - Steam is a digital distribution platform."
   ]
  },
  {
   "cell_type": "markdown",
   "metadata": {},
   "source": [
    "## Maintenance\n",
    "\n",
    "- [7Zip](https://www.7-zip.org/) / [PeaZip](www.peazip.org/) - file archiver with a high compression ratio.\n",
    "- [DeltaCopy](http://www.aboutmyip.com/AboutMyXApp/DeltaCopy.jsp) - DeltaCopy is an open source, fast incremental backup program.\n",
    "- [Disk Space Saver](https://qiplex.com/software/disk-space-saver) - Disk Space Saver is available for Windows, Mac and Linux.\n",
    "- [DropIt](http://www.dropitproject.com/) - Personal assistant to automatically manage your files.\n",
    "- [Organize My Files](https://qiplex.com/software/organize-my-files/) - Organize files and folders in a click.\n",
    "- [restic](https://github.com/restic/restic) - restic is a backup program that is fast, efficient and secure.\n",
    "- [SpaceSniffer](http://www.uderzo.it/main_products/space_sniffer/) - SpaceSniffer is a freeWare and portable tool application that lets you understand how folders and files are structured on your disks.\n",
    "- [Win32DiskImager](https://sourceforge.net/projects/win32diskimager/) / [Etcher](https://etcher.io/) / [Rufus](https://rufus.akeo.ie/) - A Windows tool for writing images to USB sticks or SD/CF cards.\n",
    "- [WinDirStat](https://windirstat.net/) - WinDirStat is a disk usage statistics viewer and cleanup tool. (SpaceSniffer alternative)"
   ]
  },
  {
   "cell_type": "markdown",
   "metadata": {},
   "source": [
    "## Multimedia\n",
    "\n",
    "- [Davinci Resolve 17](https://www.blackmagicdesign.com/products/davinciresolve/) - Revolutionary tools for editing, visual effects, motion graphics, color correction and audio post production, all in a single application.\n",
    "- [HRConvert2](https://github.com/zelon88/HRConvert2) - A self-hosted drag-and-drop file conversion server that supports 59x file formats.\n",
    "- [Nativefier](https://github.com/jiahaog/nativefier) - Make any web page a desktop application.\n",
    "- [VLC](https://www.videolan.org/vlc/) - VLC is a free and open source cross-platform multimedia player."
   ]
  },
  {
   "cell_type": "markdown",
   "metadata": {},
   "source": [
    "## Networking\n",
    "\n",
    "- [Deluge](https://deluge-torrent.org/) - Deluge is a lightweight, Free Software, cross-platform BitTorrent client.\n",
    "- [Onionshare](https://github.com/micahflee/onionshare) - Securely and anonymously send and receive files, and publish onion sites.\n",
    "- [Perkeep](https://perkeep.org/) - Perkeep lets you permanently keep your stuff, for life.\n",
    "- [PuTTY](https://putty.org/) - a free SSH and Telnet client.\n",
    "- [qBittorrent](https://www.qbittorrent.org/) - The qBittorrent project aims to provide an open-source software alternative to µTorrent.\n",
    "  - [VPN Bind](https://www.ghacks.net/2016/03/23/qbittorrent-block-transfers-vpn-disconnect/)\n",
    "  - [qBittorrent Enhanced Edition (GitHub Repo)](https://github.com/c0re100/qBittorrent-Enhanced-Edition) - Unofficial qBittorent Client.\n",
    "- [SparkleShare](https://www.sparkleshare.org/) - SparkleShare creates a special folder on your computer. You can add remotely hosted. folders (or \"projects\") to this folder. These projects will be automatically kept in sync with both the host and all of your peers when someone adds, removes or edits a file.\n",
    "- [Syncthing](https://syncthing.net/) - Syncthing replaces proprietary sync and cloud services with something open, trustworthy and decentralized.\n",
    "- [VirtualBox](https://www.virtualbox.org/wiki/Downloads) - VirtualBox is a general-purpose full virtualizer.\n",
    "- [WireShark](https://www.wireshark.org/#download) - A free and open-source packet analyzer.\n",
    "\n",
    "### Web Browsers\n",
    "\n",
    "- [Brave](https://brave.com) - Brave is a privacy-first web browser.\n",
    "- [FireFox](https://www.mozilla.org/en-US/firefox/new/) - No shady privacy policies or back doors for advertisers. Just a lightning fast browser that doesn’t sell you out.\n",
    "  - [FireFox user.js](https://github.com/arkenfox/user.js)\n",
    "  - [Firefox privacy tweaks](https://www.privacyguides.org/blog/2021/12/01/firefox-privacy-2021-update/)\n",
    "- [LibreWolf](https://librewolf-community.gitlab.io/install/) - A fork of Firefox, focused on privacy, security and freedom.\n",
    "- [Tor Browser](https://www.torproject.org/projects/torbrowser.html.en) - The Tor software protects you by bouncing your communications around a distributed network of relays run by volunteers all around the world.\n",
    "- [Ungoogled Chromium](https://github.com/Eloston/ungoogled-chromium) - A lightweight approach to removing Google web service dependency.\n",
    "- [Waterfox](https://www.waterfox.net/download) - Firefox fork, Waterfox is a lightweight, fast, and secure web browser. {% fn 1 %}\n",
    "\n",
    "### Web Browsers Extensions\n",
    "\n",
    "- [ClearURL](https://clearurls.xyz) - Removes tracking elements from URLs.\n",
    "  - [Firefox](https://addons.mozilla.org/en-US/firefox/addon/clearurls)\n",
    "  - [Chrome](https://chrome.google.com/webstore/detail/clearurls/lckanjgmijmafbedllaakclkaicjfmnk)\n",
    "- [Facebook Container](https://addons.mozilla.org/en-US/firefox/addon/facebook-container/) - Mozilla's Facebook Container extension.\n",
    "- Mouse Gestures - Navigate, operate, and browse faster with mouse gestures!.\n",
    "  - [Gesturefy (FireFox)](https://addons.mozilla.org/en-US/firefox/addon/gesturefy/)\n",
    "  - [CrxMouse (Chrome Store)](https://chrome.google.com/webstore/detail/crxmouse-chrome-gestures/jlgkpaicikihijadgifklkbpdajbkhjo)\n",
    "- [XBrowserSync](https://www.xbrowsersync.org)\n",
    "- [UBlock Origin](https://ublockorigin.com) - Free, open-source ad content blocker.\n",
    "  - [Firefox](https://addons.mozilla.org/en-US/firefox/addon/ublock-origin)\n",
    "  - [Chrome](https://chrome.google.com/webstore/detail/ublock-origin/cjpalhdlnbpafiamejdnhcphjbkeiagm)\n",
    "- [Multi Account Containers (Firefox)](https://addons.mozilla.org/en-US/firefox/addon/multi-account-containers/) - Cookies are separated by container, allowing you to use the web with multiple identities or accounts simultaneously.\n",
    "- EFF - [HTTPS Everywhere](https://www.eff.org/https-everywhere) - Force HTTPS (can be configured without addon too.)\n",
    "  - [Firefox](https://addons.mozilla.org/en-US/firefox/addon/https-everywhere)\n",
    "  - [Chrome](https://chrome.google.com/webstore/detail/https-everywhere/gcbommkclmclpchllfjekcdonpmejbdp)\n",
    "- [No Script](https://noscript.net) - Protect yourself against XSS other web security exploits.\n",
    "  - [Firefox](https://addons.mozilla.org/en-US/firefox/addon/noscript)\n",
    "  - [Chrome](https://chrome.google.com/webstore/detail/noscript/doojmbjmlfjjnbmnoijecmcbfeoakpjm)"
   ]
  },
  {
   "cell_type": "markdown",
   "metadata": {},
   "source": [
    "## Reading/Writing\n",
    "\n",
    "- [EncryptPad](https://github.com/evpo/EncryptPad) - EncryptPad is an application for viewing and editing symmetrically encrypted text.\n",
    "- [Etherpad](http://etherpad.org) - Collaborating in really real-time.\n",
    "- [Joplin](https://joplinapp.org) - An open source note taking and to-do application with synchronisation capabilities..\n",
    "- [Laverna](https://laverna.cc) - Laverna - keep your notes private.\n",
    "- [LibreOffice](https://www.libreoffice.org) - Free office suite, open source.\n",
    "- [Manuskript](https://github.com/olivierkes/manuskript) - Manuskript is an open-source tool for writers.\n",
    "- [MarkdownPad2](http://markdownpad.com) - MarkdownPad is a full-featured Markdown editor for Windows.\n",
    "- [Notable](https://github.com/fabiospampinato/notable) - The markdown-based note-taking app that doesn't suck.\n",
    "- [NotePad++](https://notepad-plus-plus.org) - Notepad++ is a free (as in \"free speech\" and also as in \"free beer\") source code editor and Notepad replacement that supports several languages.\n",
    "- [Obsidian Notes](https://obsidian.md) - Obsidian is a powerful knowledge base on top of a local folder of plain text Markdown files.\n",
    "- [Polar Bookshelf](https://github.com/burtonator/polar-bookshelf) - Polar Bookshelf is an incremental reading and personal knowledge .repository for PDF and the web created using the Electron framework and PDF.js.\n",
    "- [QOwnNotes](https://www.qownnotes.org) - QOwnNotes is a free plain-text notepad with markdown support for Linux, Mac OS X and Windows.\n",
    "- [SingleFile](https://github.com/gildas-lormeau/SingleFile) - SingleFile is a WebExtension compatible with Chrome, Firefox (Desktop and .Mobile), and Opera that helps you to save a complete web page into a single HTML file.\n",
    "- [Standard Notes](https://standardnotes.org) - Standard Notes is a safe place for your notes, thoughts, and life's work.\n",
    "- [TiddlyWiki](https://tiddlywiki.com) - a non-linear personal web notebook.\n",
    "- [Twine](https://twinery.org) - Twine is an open-source tool for telling interactive, nonlinear stories.\n",
    "- [WikidPad](https://github.com/WikidPad/WikidPad) - WikidPad is a single user desktop wiki.\n",
    "- [WriteFreely](https://github.com/writeas/writefreely) - WriteFreely is a beautifully pared-down blogging platform that's simple on the surface, yet powerful underneath.\n",
    "- [WriteMonkey](http://writemonkey.com/) - Software for full screen distraction free creative writing."
   ]
  },
  {
   "cell_type": "markdown",
   "metadata": {},
   "source": [
    "## Security\n",
    "\n",
    "- [AxCrypt](https://www.axcrypt.net/) - AxCrypt is a simple file encryption software for Windows. It integrates seamlessly with your workflow to encrypt, decrypt, store, send and work with files.\n",
    "- [Bitwarden](https://bitwarden.com/download) - Bitwarden is a secure password manager for Windows, Mac, and Linux.\n",
    "- [Bvckup2](https://bvckup2.com) -Simple fast backup: Light, versatile and very capable data replication software. Select a pair of folders and it will make sure that one stays an exact copy of the other.\n",
    "- [Cryptomator](https://cryptomator.org/) - Free & Open Source client-side encryption for Dropbox, Google Drive, you name it. Protect your cloud files.\n",
    "- [Enigmail](https://www.enigmail.net) - Enigmail automatically decrypts and verifies your Email.\n",
    "- [Eraser](https://eraser.heidi.ie/) - Eraser is an advanced security tool for Windows which allows you to completely remove sensitive data from your hard drive by overwriting it several times with carefully selected patterns.\n",
    "- [Flowcrypt](https://github.com/FlowCrypt/flowcrypt-browser) - FlowCrypt Browser extension for Chrome and Firefox .\n",
    "- [Gpg4win](https://www.gpg4win.org) - Gpg4win is a secure solution for file and email encryption.\n",
    "- [Librevault](https://librevault.com/) - File synchronization designed with privacy in mind.\n",
    "- [PGP Suite](https://github.com/TheChiefMeat/pgp) - A simple and easy to use PGP system\n",
    "- [Private Internet Access](https://www.privateinternetaccess.com/) - High-speed anonymous VPN Service.\n",
    "- [Spybot Anti-Beacon for Windows](https://www.safer-networking.org/spybot-anti-beacon) - Spybot Anti-Beacon is a standalone tool which was designed to block and stop the various tracking (telemetry) issues present in Windows 10 ([ShutUp10](https://www.oo-software.com/en/shutup10) alternative)."
   ]
  },
  {
   "cell_type": "markdown",
   "metadata": {},
   "source": [
    "## Social\n",
    "\n",
    "- [Chrono](https://github.com/gochrono/chrono) - Chrono is a time tracking tool written in Go. It is fast and simple to use.\n",
    "- [Discord](https://discordapp.com) - Step up your game with a modern voice & text chat app. Crystal clear voice, multiple server and channel support.\n",
    "- [eM Client](https://www.emclient.com) - Fast email client with full Gmail, Hotmail and other services synchronization. Best replacement for MS Outlook or Thunderbird.\n",
    "- [Matrix](https://matrix.org) - An open network for secure, decentralized communication.\n",
    "- [Mattermost](https://mattermost.com) - Open Source, Private Slack Cloud Alternative.\n",
    "- [RocketChat](https://rocket.chat) - Rocket.Chat is free, unlimited and open source. Replace email, HipChat & Slack with the ultimate team chat software solution.\n",
    "- [Teamspeak](http://www.teamspeak.com) - VoIP communication system for Online Gaming.\n",
    "- [Thunderbird](https://www.thunderbird.net) - Thunderbird is a free email application that's easy to set up and customize - and it's loaded with great features!"
   ]
  },
  {
   "cell_type": "markdown",
   "metadata": {},
   "source": [
    "## Streaming\n",
    "\n",
    "- [Open Broadcaster Software](https://obsproject.com/) - Open Broadcaster Software is free and open source software for video recording and live streaming.\n",
    "- [Streamlabs OBS](https://streamlabs.com/) - Forked version of OBS."
   ]
  },
  {
   "cell_type": "markdown",
   "metadata": {},
   "source": [
    "## System\n",
    "\n",
    "- [Bleachbit](https://github.com/bleachbit/bleachbit) - Clean Your System and Free Disk Space. (CCleaner alternative).\n",
    "- [Chocolatey](https://chocolatey.org/) - Package manager for Windows.\n",
    "- [Ninite](https://ninite.com/) - Package manager for Windows. (Chocolatey alternative)\n",
    "- [CPU-Z](https://www.cpuid.com/softwares/cpu-z.html) - CPU-Z is a freeware that gathers information on some of the main devices of your system.\n",
    "- [Everything](https://www.voidtools.com) - Locate files and folders by name instantly.\n",
    "- [Fences](https://www.stardock.com/products/fences) - Automatically organize your desktop shortcuts and icons with Fences!\n",
    "- [f.lux](https://justgetflux.com) - Is your computer keeping you up late? f.lux is a free download that warms up your computer display at night, to match your indoor lighting.\n",
    "- [LightBulb](https://github.com/Tyrrrz/LightBulb) - LightBulb is an application that reduces eyestrain produced by staring at a computer screen when working late hours. (F.lux alternative)\n",
    "- [NSSM](http://nssm.cc/usage) - the Non-Sucking Service Manager.\n",
    "- [UCheck](https://www.adlice.com/ucheck/) - Update manager for your software and apps.\n",
    "- [ProcessHacker](https://processhacker.sourceforge.io) - A free, powerful, multi-purpose tool that helps you monitor system resources, debug software and detect malware.\n",
    "- [Rainmeter](https://www.rainmeter.net/) - Rainmeter allows you to display customizable skins on your desktop, from hardware usage meters to fully functional audio visualizers.\n",
    "- [SimpleWall](https://github.com/henrypp/simplewall) - Simple tool to configure Windows Filtering Platform (WFP) which can configure network activity on your computer.\n",
    "- [Speccy](https://www.ccleaner.com/speccy) - Need to find out what’s inside your computer? Speccy has all the information you need!\n",
    "- [Taskwarrior](https://github.com/GothenburgBitFactory/taskwarrior) - NTaskwarrior is a GTD, todo list, task management, command line utility with a multitude of features.\n",
    "- [TeraCopy](https://www.codesector.com/teracopy) - Official site of TeraCopy, a free utility designed to copy files faster and more secure. It can verify copied files to ensure they are identical."
   ]
  },
  {
   "cell_type": "markdown",
   "metadata": {},
   "source": [
    "{{ 'Note that some websites will not work with that browser' | fndetail: 1 }}\n"
   ]
  }
 ],
 "metadata": {
  "language_info": {
   "name": "python"
  },
  "orig_nbformat": 4
 },
 "nbformat": 4,
 "nbformat_minor": 2
}
