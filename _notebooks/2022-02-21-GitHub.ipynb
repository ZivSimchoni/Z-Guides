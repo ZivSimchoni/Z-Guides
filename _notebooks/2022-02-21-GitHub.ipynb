{
 "cells": [
  {
   "cell_type": "markdown",
   "metadata": {},
   "source": [
    "# GitHub Customizations & Guides\n",
    "- badges: false\n",
    "- hide_binder_badge: true\n",
    "- hide_colab_badge: true\n",
    "- hide_deepnote_badge: true\n",
    "- toc: false\n",
    "- layout: post\n",
    "- description: List of GitHub Customizations & Guides\n",
    "- categories: [customization, github]\n",
    "- title: GitHub Customizations & Guides\n",
    "- comments: true\n",
    "- author: Ziv Simchoni\n",
    "- image: images/github.png"
   ]
  },
  {
   "cell_type": "markdown",
   "metadata": {},
   "source": [
    "### GitHub Customization\n",
    "- [Awesome GitHub](https://github.com/Kikobeats/awesome-github) - An exquisite list of awesome :octocat: secrets.\n",
    "- [Awesome ReadMe](https://github.com/kautukkundan/Awesome-Profile-README-templates) - A curated list of awesome README templates.\n",
    "- [ReadMe Stats](https://github.com/anuraghazra/github-readme-stats) - Dynamically generated stats for your github readmes."
   ]
  },
  {
   "cell_type": "markdown",
   "metadata": {},
   "source": [
    "### GitHub Guides\n",
    "- [GitHub Official Introduction](https://guides.github.com/activities/hello-world)\n",
    "- [GitHub Tutorial (YouTube)](https://www.youtube.com/watch?v=0fKg7e37bQE)"
   ]
  }
 ],
 "metadata": {
  "language_info": {
   "name": "python"
  },
  "orig_nbformat": 4
 },
 "nbformat": 4,
 "nbformat_minor": 2
}
