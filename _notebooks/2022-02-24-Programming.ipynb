{
 "cells": [
  {
   "cell_type": "markdown",
   "metadata": {},
   "source": [
    "# Programming Related Sources\n",
    "- toc: true\n",
    "- badges: false\n",
    "- hide_binder_badge: true\n",
    "- hide_colab_badge: true\n",
    "- hide_deepnote_badge: true\n",
    "- layout: post\n",
    "- description: List of Programming Related Sources\n",
    "- categories: [programming, code]\n",
    "- title: Programming Related Sources\n",
    "- comments: true\n",
    "- author: Ziv Simchoni\n",
    "- image: images/programming.png"
   ]
  },
  {
   "cell_type": "markdown",
   "metadata": {},
   "source": [
    ">Note: Mostly Programing Sources and links.\n",
    "\n",
    "## Links\n",
    "\n",
    "- [Best Sites GitHub Repo](https://github.com/sdmg15/Best-websites-a-programmer-should-visit) - Some useful websites for programmers.\n",
    "- [Big-O Cheat Sheet](https://www.bigocheatsheet.com) - Space and time Big-O complexities of common algorithms used in Computer Science.\n",
    "- [Curated Courses](https://curated-courses.herokuapp.com) - A curated list of courses in Computer Science, Physics, Economics and Math.\n",
    "- [Geeks For Geeks](https://www.geeksforgeeks.org) - Variety of services for you to learn, thrive and also have fun!\n",
    "- [GlassDoor](https://www.glassdoor.com) - Glassdoor also allows users to anonymously submit and view salaries as well as search and apply for jobs on its platform.\n",
    "- [Hack The Box](https://www.hackthebox.eu) - Offering everything that is required to take your training seriously and kickstart a career in cybersecurity..\n",
    "- [Keyboard](https://www.keybr.com) - This web application will help you to learn touch typing, which means typing through muscle memory without using the sense of sight to find the keys on the keyboard.\n",
    "- [Learn X in Y minutes](https://learnxinyminutes.com) - Community-driven site to take a whirlwind tour of your next favorite language.\n",
    "- [Mega Project List](https://github.com/karan/Projects/blob/master/README.md) - A list of practical projects that anyone can solve in any programming language. (Good for programing practices)\n",
    "- [Pastebin](https://pastebin.com) - Store any text online for easy sharing. (Expiration time can be set to texts)\n",
    "- [Stack Overflow](https://stackoverflow.com) - The most popular, community-based space to find and contribute answers to technical challenges.\n",
    "- [Useful GitHub repo for programmers](https://github.com/sdmg15/Best-websites-a-programmer-should-visit)\n",
    "- [W3Schools](https://www.w3schools.com) - Learn programing languages."
   ]
  },
  {
   "cell_type": "markdown",
   "metadata": {},
   "source": [
    "## Related Programs / Links\n",
    "\n",
    "- [Arduino](https://www.arduino.cc) - Open-source electronic prototyping platform enabling users to create interactive electronic objects\n",
    "- [AutoHotkey](https://autohotkey.com) - Free keyboard macro program.\n",
    "- Git\n",
    "  - [Git](https://git-scm.com) - Git is a free and open source distributed version control system.\n",
    "  - [GitAhead](https://github.com/gitahead/gitahead) - GitAhead is a graphical Git client designed to help you understand and manage your source code history.\n",
    "  - [GitHub Desktop](https://desktop.github.com) - Whether you're new to Git or a seasoned user, GitHub Desktop simplifies your\n",
    "    development workflow.\n",
    "  - [Gitea](https://gitea.io/en-us) - A painless self-hosted Git service.\n",
    "- [MySQL](https://www.mysql.com) - MySQL is an open-source relational database management system.\n",
    "- [npm](https://www.npmjs.com) - Node Package Manager\n",
    "- [Node.js](https://nodejs.org) - Node.js® is a JavaScript runtime built on Chrome's V8 JavaScript engine.\n",
    "- [PyCharm](https://www.jetbrains.com/pycharm) - PyCharm is an integrated development environment (IDE) used in computer programming, specifically for the Python language.\n",
    "- [Terminus](https://github.com/Eugeny/terminus) - A terminal for the modern age.\n",
    "- [Visual Studio Code (VSCode)](https://github.com/Microsoft/vscode) - VS Code is a type of tool that combines the simplicity of a code editor with what developers need.\n",
    "- [VScodium (Site)](https://vscodium.com) - Community-driven, binary releases of VSCode without MS branding/telemetry/licensing.\n",
    "  - [VScodium (GitHub)](https://github.com/VSCodium/vscodium)\n",
    "- [VvvvebJs](https://github.com/givanz/VvvebJs) - Drag and drop website builder javascript library.\n",
    "- [Web-Maker](https://github.com/chinchang/web-maker) - Web-Maker is an offline playground for your web experiments."
   ]
  },
  {
   "cell_type": "markdown",
   "metadata": {},
   "source": [
    "## Interview Questions\n",
    "\n",
    "- [Hacker Rank](https://www.hackerrank.com) - HackerRank offers a variety of skills, tracks and tutorials for you to learn and improve, and also matching developers with companies.\n",
    "- [Interview Questions](https://github.com/DopplerHQ/awesome-interview-questions) - A curated list of interview questions.\n",
    "- [InterviewBit](https://www.interviewbit.com/) - A site for programmers to practice their interview skills with various questions and problems to solve."
   ]
  },
  {
   "cell_type": "markdown",
   "metadata": {},
   "source": [
    "## Programming Languages\n",
    "\n",
    "- C++\n",
    "  - [C++ Reference](https://en.cppreference.com/w/)\n",
    "  - [C++ Practices](https://stackoverflow.com/a/388282) - Lots of books and links C++ related.\n",
    "  - [C++ Tutorial](https://www.youtube.com/watch?v=mUQZ1qmKlLY) - YouTube C++ 9h tutorial. (By Bucky - 2017)\n",
    "  - [C++ Tutorial](https://youtu.be/GQp1zzTwrIg) - YouTube C++ 10h tutorial. (By CodeBeauty - 2021)\n",
    "  - [C++ ISO](https://isocpp.org) - The home of Standard C++ on the web.\n",
    "- [Python](https://www.python.org) - Python is an interpreted high-level programming language for general-purpose programming.\n",
    "  - [Automate The Boring Stuff](https://automatetheboringstuff.com) - For complete beginners to programming.\n",
    "  - [Python Tutorial](https://docs.python.org/3/tutorial) - Official tutorial.\n",
    "  - [Python Discord](https://pythondiscord.com) - Python focused Discord community. \n",
    "  - [Real Python](https://realpython.com) - Python Tutorials, guides and tricks.\n",
    "- [Go](https://golang.org) - Go is an open source programming language that makes it easy to build simple, reliable, and efficient software.\n",
    "- [Kotlin](https://kotlinlang.org) - Kotlin is a cross-platform, statically typed, general-purpose programming language with type inference. Kotlin is designed to interoperate fully with Java.\n",
    "- [Ruby](https://www.ruby-lang.org/en) - A dynamic, open source programming language with a focus on simplicity and productivity."
   ]
  },
  {
   "cell_type": "markdown",
   "metadata": {},
   "source": [
    "## Discord Channels\n",
    "\n",
    "- [Hack The Box](https://discord.gg/hackthebox)\n",
    "- [The Coding Den](https://discord.gg/code)\n",
    "- [Python Discord](https://discord.com/invite/python)"
   ]
  }
 ],
 "metadata": {
  "interpreter": {
   "hash": "1512b58cf1e520d48d028d2c39b6d1d1e93cbe4dacfbd9656753a2ed33318813"
  },
  "kernelspec": {
   "display_name": "Python 3.10.2 64-bit",
   "language": "python",
   "name": "python3"
  },
  "language_info": {
   "name": "python",
   "version": "3.10.2"
  },
  "orig_nbformat": 4
 },
 "nbformat": 4,
 "nbformat_minor": 2
}
