{
 "cells": [
  {
   "cell_type": "markdown",
   "metadata": {},
   "source": [
    "# Online Security\n",
    "- badges: false\n",
    "- hide_binder_badge: true\n",
    "- hide_colab_badge: true\n",
    "- hide_deepnote_badge: true\n",
    "- toc: false\n",
    "- layout: post\n",
    "- description: What is online security and how can we enhance it?\n",
    "- categories: [security, privacy, post]\n",
    "- title: Online Security\n",
    "- comments: true\n",
    "- author: Ziv Simchoni\n",
    "- image: images/security.jpg"
   ]
  },
  {
   "cell_type": "markdown",
   "metadata": {},
   "source": [
    "<!-- Image Cell -->\n",
    "![](../images/security.jpg)"
   ]
  },
  {
   "cell_type": "markdown",
   "metadata": {},
   "source": [
    "# What is online security?\n",
    "Online security is something most of us use on a daily basis – sometimes we don’t even know we are using it! It is commonly used by websites to keep your personal information as safe as possible. Some websites and services apply their security by asking for your email address and other contact details which are unique to you.<br>\n",
    "Most websites will have a specific page/s explaining exactly how your information will be handled (e.g privacy policy and terms of use). That policy should be reviewed carefully to ensure you are fully aware how your personal data is being stored and used.<br>\n",
    "Although most websites and platforms do take security measures to prevent your information from leaking out of their servers and from unauthorized access, **no system is 100% secure.**\n",
    "\n",
    "# What can you do to enhance your security online?\n",
    "## **First, Common sense - without that we’re lost.**\n",
    ">warning: If something isn't looking right or feels fishy, do not click on it.\n",
    "<br>Maybe the url or site name isn't spelled correctly or the link is weird (usually a shortened url looks kinda suspicious). maybe you don't know the sender or you know that person and he would never send you that offer or link - **that's a warning sign.**\n",
    "\n",
    "## **Second, the connection.**\n",
    ">Important: Ensure you have a secure and protected connection (Http**s**), and you're browsing from a safe spot.\n",
    "<br>Example for not so recommended option: logging into your bank account while using the local cafe free Wifi. Since free Public wifi isn't secure enough and an easy place for hackers to gather your information.<br>\n",
    "Also, make sure your system, internet browser and apps are up to date, security updates are usually sent periodically.\n",
    "\n",
    "## **Third, Account safety.**\n",
    "To ensure u have better security, you can use 3rd services and take some additional practices such as:<br>\n",
    "## Unique security questions\n",
    "Usually services will ask you questions in the form of: \n",
    "- What is the name of a relative/place/pet?\n",
    "- Some important date for you.\n",
    "- In what city you were born?<br>\n",
    "<br>\n",
    "You should never share your answers with anybody, and to take that one step further, use information that cant be found in your social media or a quick search of your name in a search engine (e.g Facebook, Google).\n",
    "<br>\n",
    "\n",
    "## Complex password\n",
    "As technology advances, many hackers and hacking services can hack “regular” passwords within seconds or minutes and we need to keep up with the changes.<br>\n",
    "So you need to use a complex password - a combination of symbols and signs, a mix of low and capital letters, the longer the better.<br>\n",
    "If you're afraid that you may forget the password I’d suggest you use a password manager that can generate and store the password safely and encrypted for you.<br><br>\n",
    "**Two highly recommended password managers:**\n",
    "- [Bitwarden](https://bitwarden.com) (Free and Open-Source)\n",
    "- [1Password](https://1password.com) (Paid service)\n",
    "\n",
    "Additionally you can check your password strength using one of these testing tools:\n",
    "- [Pwned Passwords](https://haveibeenpwned.com/Passwords)\n",
    "- [Bitwarden Password Strength Test](https://bitwarden.com/password-strength)\n",
    "- [Kaspersky Password Check](https://password.kaspersky.com)\n",
    "\n",
    "\n",
    "## **Two-factor authentication** (2FA, for short)<br>\n",
    "2FA is usually considered as a **second layer of defense**, that means after you’ve logged on your account the service will ask you to provide a second yet unique password.<br>\n",
    "That second password is usually sent over SMS/Email/Authentication app.<br>\n",
    "The code will expire after a certain time, in that time u need to enter that code otherwise you’ll be locked outside the. Most of the time the service will inform you when someone is trying to access your account without your permission.<br>\n",
    "You should check if your service supports 2FA and if so, enable that.<br>\n",
    "**Two highly recommended 2FA app:**\n",
    "- [Aegis](https://getaegis.app) (Android).\n",
    "- [Ravio OTP](https://apps.apple.com/app/raivo-otp/id1459042137) (iOS).<br>\n",
    "> 1password & Bitwarden (with paid subscription) can be used as a 2FA app too.\n",
    "\n",
    "Alternatively you can use physical 2FA key - [Security token](https://en.wikipedia.org/wiki/Security_token)\n"
   ]
  },
  {
   "cell_type": "markdown",
   "metadata": {},
   "source": [
    "<!-- Sources: \n",
    "https://www.cybersmile.org/what-we-do/advice-help/online-security\n",
    "https://www.mcafee.com/enterprise/en-us/security-awareness/cybersecurity/what-is-internet-security.html\n",
    "https://mind-core.com/blogs/cybersecurity/5-types-of-cyber-security/\n",
    "https://en.wikipedia.org/wiki/Multi-factor_authentication\n",
    "https://en.wikipedia.org/wiki/Security_token\n",
    "https://authy.com/what-is-2fa/\n",
    "https://bitwarden.com/\n",
    "https://1password.com/\n",
    "\n",
    "password strength:\n",
    "https://passwordmonster.com/\n",
    "Pwned Passwords\n",
    "BitWarden Password Strength Test\n",
    "Kaspersky Password Check-->"
   ]
  },
  {
   "cell_type": "markdown",
   "metadata": {},
   "source": [
    "<br><br>\n",
    "What did you take from the article and assimilate into your online life?<br>\n",
    "Leave a comment below.<br>\n",
    "\n",
    ">note: Disclaimer, none of the links is affiliated. It's just my personal preference."
   ]
  }
 ],
 "metadata": {
  "interpreter": {
   "hash": "1512b58cf1e520d48d028d2c39b6d1d1e93cbe4dacfbd9656753a2ed33318813"
  },
  "kernelspec": {
   "display_name": "Python 3.10.2 64-bit",
   "language": "python",
   "name": "python3"
  },
  "language_info": {
   "name": "python",
   "version": "3.10.2"
  },
  "orig_nbformat": 4
 },
 "nbformat": 4,
 "nbformat_minor": 2
}
