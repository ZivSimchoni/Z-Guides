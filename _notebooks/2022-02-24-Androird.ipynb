{
 "cells": [
  {
   "cell_type": "markdown",
   "metadata": {},
   "source": [
    "# Android Apps\n",
    "- toc: true\n",
    "- badges: false\n",
    "- hide_binder_badge: true\n",
    "- hide_colab_badge: true\n",
    "- hide_deepnote_badge: true\n",
    "- layout: post\n",
    "- description: List of Android Apps\n",
    "- categories: [android, apps]\n",
    "- title: Android Apps\n",
    "- comments: true\n",
    "- author: Ziv Simchoni\n",
    "- image: images/android.png"
   ]
  },
  {
   "cell_type": "markdown",
   "metadata": {},
   "source": [
    "## Communication\n",
    "\n",
    "### E-mail Clients\n",
    "\n",
    "- [FairMail](https://email.faircode.eu) - Fully featured, open source, privacy oriented email app.\n",
    "- [K-9 Mail](https://k9mail.app/download) - Open source, focused on making it easy to chew through large volumes of email.\n",
    "\n",
    "### Real-Time Communication\n",
    "\n",
    "- [Element](https://element.io/get-started#download) - Secure and independent communication, connected via [matrix](https://matrix.org/).\n",
    "- [Signal](https://www.signal.org/download) - Privacy oriented messaging app.\n",
    "- [Telegram](https://telegram.org) - Cross platform messaging software.\n",
    "- [Telegram FOSS](https://github.com/Telegram-FOSS-Team/Telegram-FOSS) - This is an unofficial, FOSS-friendly fork of the original Telegram App.\n",
    "\n",
    "### Social Media\n",
    "\n",
    "- [Infinity for Reddit](https://github.com/Docile-Alligator/Infinity-For-Reddit) - Reddit client, without ads, clean UI and smooth experience."
   ]
  },
  {
   "cell_type": "markdown",
   "metadata": {},
   "source": [
    "## Files & System\n",
    "\n",
    "### File Managers\n",
    "\n",
    "- [MiXplorer](https://mixplorer.com) - Fast, smooth, beautiful, reliable and full-featured file manager with a simple and intuitive user interface. [XDA](https://forum.xda-developers.com/t/app-2-2-mixplorer-v6-x-released-fully-featured-file-manager.1523691/#post-23109280), & [Play Store](https://play.google.com/store/apps/details?id=com.mixplorer.silver) IMHO: Hands down, one of the bests file explorer.\n",
    "- [Solid Explorer](https://play.google.com/store/apps/details?id=pl.solidexplorer2) - Solid Explorer is a file management app inspired by the old school file commander applications.\n",
    "- [SD Maid](https://sdmaid.darken.eu) - It helps you manage files and apps. It works with any Android device and any storage that is accessible.\n",
    "\n",
    "### Launchers\n",
    "\n",
    "- [Lawnchair launcher](https://lawnchair.app) - Based on Launcher3 from AOSP, Lawnchair has all the features of the Pixel Launcher.\n",
    "- [Nova Launcher](https://novalauncher.com) - A powerful, customizable, and versatile home screen replacement. [Discord](https://discord.gg/novalauncher)\n",
    "\n",
    "### Notes\n",
    "\n",
    "- [Joplin](https://play.google.com/store/apps/details?id=net.cozic.joplin) - Joplin is an open source note-taking app. Capture your thoughts and securely access them from any device.\n",
    "- [Obsidian Notes](https://play.google.com/store/apps/details?id=md.obsidian) - Obsidian is a powerful knowledge base on top of a local folder of plain text Markdown files.\n",
    "- [Standard Notes](https://play.google.com/store/apps/details?id=com.standardnotes) - Standard Notes is a safe place for your notes, thoughts, and life's work."
   ]
  },
  {
   "cell_type": "markdown",
   "metadata": {},
   "source": [
    "## Internet\n",
    "\n",
    "### Advertisement blocking\n",
    "\n",
    "> Note: You can use hosts from **`#Hosts Lists`** at **`Resources And Links`** post on your Android phone as well.\n",
    "\n",
    "- [AdAway](https://adaway.org) - Ad Blocker using VPN or Hosts file. Root Required for best results.\n",
    "- [AdGuard](https://adguard.com/en/welcome.html) - Ad Blocker using VPN. No root required.\n",
    "- [Blockada](https://blokada.org) - Ad Blocker using VPN. No root required.\n",
    "- [Dns66](https://jak-linux.org/projects/dns66/) - Ad Blocker using VPN. No root required.\n",
    "\n",
    "### Firewalls\n",
    "\n",
    "- [AFWall+](https://github.com/ukanth/afwall/) - Control network traffic (Requires root).\n",
    "- [NetGuard](https://netguard.me) - NetGuard provides simple and advanced ways to block access to the internet - no root required.\n",
    "\n",
    "### VPNs\n",
    "\n",
    "- [Mullvad](https://mullvad.net/en/download/android/) - Privacy oriented, fast and easy to use VPN.\n",
    "- [NordVPN](https://nordvpn.com/download/android/) - _Paid_ VPN service.\n",
    "- [Orbot: Tor for Android](https://guardianproject.info/apps/org.torproject.android) - Enhance your privacy and break through firewalls.\n",
    "- [ProtonVPN](https://protonapps.com) - VPN service.\n",
    "- [WireGuard](https://www.wireguard.com/install/) - Simple yet fast and modern VPN that utilizes state-of-the-art cryptography.\n",
    "\n",
    "### Web Browsers\n",
    "\n",
    "- [Brave](https://brave.com/) - Chromium fork with ad blocking enhancements.\n",
    "- [Bromite](https://www.bromite.org) - Chromium fork with ad blocking and privacy enhancements; take back your browser!\n",
    "- [Fenecc Fox](https://f-droid.org/en/packages/org.mozilla.fennec_fdroid) - Firefox with proprietary bits and telemetry removed, but still connects to\n",
    "  various Mozilla and Google services that can track users.\n",
    "- [Firefox](https://play.google.com/store/apps/details?id=org.mozilla.firefox) - Mozilla's official release of Firefox.\n",
    "- [Firefox Klar](https://play.google.com/store/apps/details?id=org.mozilla.klar) - Privacy-oriented browser with tracking protection and content blocking (Same as FireFox Focus but with less analytics).\n",
    "- [Kiwi Browser](https://kiwibrowser.com) - Chromium based, with much welcome extensions and Ad blocking features.\n",
    "- [Mull](https://github.com/Divested-Mobile/mull-fenix) - Firefox hardened fork.\n",
    "- [Tor Browser](https://guardianproject.info/apps/org.torproject.torbrowser) - Experience real private browsing without tracking, surveillance, or censorship.\n",
    "- [Ungoogled Chromium](https://uc.droidware.info/) - It is the Android version of Ungoogle-Chromium."
   ]
  },
  {
   "cell_type": "markdown",
   "metadata": {},
   "source": [
    "## Media\n",
    "\n",
    "### Photos\n",
    "\n",
    "- [QuickPic Gallery Mod](https://t.me/WSTprojects) - Supercharged gallery app. [Telegram Group](https://t.me/WSTchat), [XDA OP](https://forum.xda-developers.com/t/mod-app-gallery-quickpic-2021.3790425/#post-76519205)\n",
    "- [Snapseed](https://play.google.com/store/apps/details?id=com.niksoftware.snapseed) - Snapseed is a complete and professional photo editor.\n",
    "\n",
    "### Music and Videos\n",
    "\n",
    "- [VLC](https://www.videolan.org/vlc/download-android.html) - FOSS cross-platform multimedia player and framework that plays most multimedia files.\n",
    "- [PowerAMP](https://play.google.com/store/apps/details?id=com.maxmpz.audioplayer) - Music player for Android.\n",
    "\n",
    "### Online Streaming\n",
    "\n",
    "- [YouTube Vanced](https://vancedapp.com) - Ad-Free YouTube & YT Music.\n"
   ]
  },
  {
   "cell_type": "markdown",
   "metadata": {},
   "source": [
    "## Passwords And Security\n",
    "\n",
    "### Passwords Managers\n",
    "\n",
    "- [Bitwarden](https://bitwarden.com/download/) - Cross-platform password manager. (With paid subscription - can be used for 2FA too)\n",
    "\n",
    "### 2FA and TOTP\n",
    "\n",
    "- [Aegis](https://getaegis.app/) - Free, secure and open source 2FA app.\n",
    "- [andOTP](https://github.com/andOTP/andOTP) - Open source two-factor authentication.\n",
    "- [Authenticator Pro](https://github.com/jamie-mh/AuthenticatorPro) - Free and open source 2FA app with support for Wear OS."
   ]
  },
  {
   "cell_type": "markdown",
   "metadata": {},
   "source": [
    "## ETC.\n",
    "\n",
    "### Keyboards\n",
    "\n",
    "- [AnySoft Keyboard](https://anysoftkeyboard.github.io/download) - On screen keyboard for multiple languages.\n",
    "\n",
    "### MODs and Tools\n",
    "\n",
    "- [Franco Kernel Manager](https://play.google.com/store/apps/details?id=com.franco.kernel) - FKM it's a complete toolbox for all devices with a rich feature set aimed for ease of use to supercharge your kernel!\n",
    "- [KDE Connect](https://kdeconnect.kde.org/download.html) - A project that enables all your devices to communicate with each other.\n",
    "- [Tasker](https://tasker.joaoapps.com/download.html) - _Paid app_ - Total automation for Android. IMHO - totally worth it.\n",
    "- [MicroG](https://microg.org/download.html) - Google Play-Services alternative.\n",
    "- [Island](https://play.google.com/store/apps/details?id=com.oasisfeng.island) - Sandbox environment to clone selected apps and isolate them from accessing your personal data outside the sandbox.\n",
    "- [Insular](https://gitlab.com/secure-system/Insular) - Fork of Island with removed proprietary Google Play libraries."
   ]
  },
  {
   "cell_type": "markdown",
   "metadata": {},
   "source": [
    "## Alt. Apk Sources\n",
    "\n",
    "- [Apk Mirror](https://www.apkmirror.com) - Most known clean APK site.\n",
    "- [Aurara Store](https://auroraoss.com/download/) - Unofficial FOSS client of Google Play Store.\n",
    "- [AuraraDroid](https://gitlab.com/AuroraOSS/auroradroid) - Fork of the F-Droid client with external repos ready to sync.\n",
    "- [F-Droid](https://f-droid.org) - Wide catalogue of FOSS (Free and Open Source Software) android applications.\n",
    "  - [F-Droid Known Repos](https://forum.f-droid.org/t/known-repositories/721)\n",
    "  - [Unofficial (and incomplete) list of F-Droid repositories - IzzyOnDroid](https://android.izzysoft.de/articles/named/list-of-fdroid-repos)"
   ]
  },
  {
   "cell_type": "markdown",
   "metadata": {},
   "source": [
    "## ROMs\n",
    "\n",
    "- [GrapheneOS](https://grapheneos.org) - Android-based, security-hardened, privacy focused, free and open-source, mobile operating system for selected smartphones.\n",
    "- [LineageOS](https://lineageos.org) - A free and open-source operating system for various devices, based on the Android mobile platform.\n",
    "- **Honorable Mentions:** ArrowOS, CorvusOS ,DotOS, EvolutionX, POSP, Paranoid Android, Pixel Experience, SSOS, Syberia."
   ]
  },
  {
   "cell_type": "markdown",
   "metadata": {},
   "source": [
    "## Useful Links\n",
    "\n",
    "- [r/ Android Privacy Wiki](https://www.reddit.com/r/FREEMEDIAHECKYEAH/wiki/android#wiki_.25BA_android_privacy)\n",
    "- [Android FOSS Apps](https://gitlab.com/Ashpex/android-FOSS-apps)\n",
    "- [Awesome Android Apps - LinuxCafe](https://github.com/LinuxCafeFederation/awesome-android)\n",
    "- [Android Security Awesome](https://github.com/ashishb/android-security-awesome) - A collection of android security related resources and tools.\n",
    "- [Guardian Project](https://guardianproject.info/) - Guardian Project creates easy to use secure apps, open-source software libraries, and customized solutions that can be used around the world."
   ]
  }
 ],
 "metadata": {
  "interpreter": {
   "hash": "1512b58cf1e520d48d028d2c39b6d1d1e93cbe4dacfbd9656753a2ed33318813"
  },
  "kernelspec": {
   "display_name": "Python 3.10.2 64-bit",
   "language": "python",
   "name": "python3"
  },
  "language_info": {
   "name": "python",
   "version": "3.10.2"
  },
  "orig_nbformat": 4
 },
 "nbformat": 4,
 "nbformat_minor": 2
}
